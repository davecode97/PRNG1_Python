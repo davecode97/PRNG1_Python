{
  "nbformat": 4,
  "nbformat_minor": 0,
  "metadata": {
    "colab": {
      "name": "PRNG 1.ipynb",
      "provenance": [],
      "collapsed_sections": [],
      "include_colab_link": true
    },
    "kernelspec": {
      "display_name": "Python 3",
      "name": "python3"
    },
    "language_info": {
      "name": "python"
    }
  },
  "cells": [
    {
      "cell_type": "markdown",
      "metadata": {
        "id": "view-in-github",
        "colab_type": "text"
      },
      "source": [
        "<a href=\"https://colab.research.google.com/github/llanesdavid97/PRNG1_Python/blob/main/PRNG_1.ipynb\" target=\"_parent\"><img src=\"https://colab.research.google.com/assets/colab-badge.svg\" alt=\"Open In Colab\"/></a>"
      ]
    },
    {
      "cell_type": "markdown",
      "metadata": {
        "id": "yJgosSVcsCbW"
      },
      "source": [
        "***Simulación***\n",
        "\n",
        "TecMM Campus Zapopan - Simulacion\n",
        "\n",
        "\n",
        "------\n",
        "\n",
        "**Objetive** \n",
        "\n",
        "Implementation of the following testing methods for PRNGs\n",
        "\n",
        "*   Test of means\n",
        "*   Test of variance\n",
        "*   Chi- Squere Test\n",
        "*   Runs above and below Test\n",
        "\n",
        "---\n",
        "**Problem description**\n",
        "\n",
        "The student should implement the test listed above.\n",
        "In order to know whether the pseudo-random number generator is good or not,\n",
        "the student should use the following random generators with the corresponding \n",
        "test:\n",
        "\n",
        "1. $X_{i+1} ≡ 121X_{i} + 553 \\:\\:\\:mod \\:\\:\\:177 \\:\\:\\:with \\:\\:\\: X_{0} = 23$\n",
        "\n",
        "  (a) Test of means\n",
        "\n",
        "  (b) Test of variance\n",
        "\n",
        "  (c) Chi-Squere Test\n",
        "\n",
        "\n",
        "*  For testing the PRNG 1 the student shold get all the possilbe numbers, that is, **determine the period of the PRNG.**\n",
        "\n",
        "\n",
        "**If the generator passes all the test then is a good generator**.\n",
        "  \n"
      ]
    },
    {
      "cell_type": "markdown",
      "metadata": {
        "id": "r0LSkglhsZIC"
      },
      "source": [
        "**Random generators Linear Congrention**"
      ]
    },
    {
      "cell_type": "code",
      "metadata": {
        "colab": {
          "base_uri": "https://localhost:8080/"
        },
        "id": "JO3doFwl0Nap",
        "outputId": "7df5ff9c-d0ce-41a2-dfc3-322558a8ce19"
      },
      "source": [
        "import math\n",
        "import numpy as np\n",
        "import matplotlib.pyplot as plt\n",
        "import scipy.special as sc\n",
        "from scipy.stats import chi2\n",
        "\n",
        "from scipy.stats import norm\n",
        "import matplotlib.pyplot as plt\n",
        "\n",
        "\n",
        "def generator(a,c,m,xi):\n",
        "\treturn ((a*xi)+c)%m\n",
        "\n",
        "def n_random_numbers(a,c,m,seed,n):\n",
        "\tr = []\n",
        "\txi = [0,seed]\n",
        "\tfor i in range(1,n+1):\n",
        "\t\t xi1 = generator(a,c,m,xi[i])\n",
        "\t\t xi.append(xi1)\n",
        "\t\t r.append(xi1/(m-1))\n",
        "\treturn r\n",
        "\n",
        "def all_random_numbers(a,c,m,seed):\n",
        "\tr = []\n",
        "\txi = [0,seed]\n",
        "\ti = 1\n",
        "\tunique_xis = dict()\n",
        "\twhile(xi[i] not in unique_xis):\n",
        "\t\t xi1 = generator(a,c,m,xi[i])\n",
        "\t\t xi.append(xi1)\n",
        "\t\t unique_xis[xi[i]] = True\n",
        "\t\t r.append(xi1/(m-1))\n",
        "\t\t i+=1\n",
        "\treturn r\n",
        "\t\n",
        "\n",
        "def period(a,c,m,seed):\n",
        "\treturn len(all_random_numbers(a, c, m, seed))\n",
        "\n",
        "generatorValues = {\n",
        "  'a': 121,\n",
        "  'c': 553,\n",
        "  'm': 177,\n",
        "  'seed': 23\n",
        "}\n",
        "\n",
        "\n",
        "sizeR = (period(**generatorValues))\n",
        "auxR = (all_random_numbers(**generatorValues))\n",
        "\n",
        "auxX =n_random_numbers(**generatorValuesX)\n",
        "r = auxR\n",
        "print(auxX)\n",
        "print(sizeR)\n",
        "cl = 0.95"
      ],
      "execution_count": null,
      "outputs": [
        {
          "output_type": "stream",
          "text": [
            "[0.25125628140703515, 0.25125628140703515, 0.25125628140703515, 0.25125628140703515, 0.25125628140703515, 0.25125628140703515, 0.25125628140703515, 0.25125628140703515, 0.25125628140703515, 0.25125628140703515, 0.25125628140703515, 0.25125628140703515, 0.25125628140703515, 0.25125628140703515, 0.25125628140703515, 0.25125628140703515, 0.25125628140703515, 0.25125628140703515, 0.25125628140703515, 0.25125628140703515, 0.25125628140703515, 0.25125628140703515, 0.25125628140703515, 0.25125628140703515, 0.25125628140703515, 0.25125628140703515, 0.25125628140703515, 0.25125628140703515, 0.25125628140703515, 0.25125628140703515, 0.25125628140703515, 0.25125628140703515, 0.25125628140703515, 0.25125628140703515, 0.25125628140703515, 0.25125628140703515, 0.25125628140703515, 0.25125628140703515, 0.25125628140703515, 0.25125628140703515, 0.25125628140703515, 0.25125628140703515, 0.25125628140703515, 0.25125628140703515, 0.25125628140703515, 0.25125628140703515, 0.25125628140703515, 0.25125628140703515, 0.25125628140703515, 0.25125628140703515, 0.25125628140703515, 0.25125628140703515, 0.25125628140703515, 0.25125628140703515, 0.25125628140703515, 0.25125628140703515, 0.25125628140703515, 0.25125628140703515, 0.25125628140703515, 0.25125628140703515, 0.25125628140703515, 0.25125628140703515, 0.25125628140703515, 0.25125628140703515, 0.25125628140703515, 0.25125628140703515, 0.25125628140703515, 0.25125628140703515, 0.25125628140703515, 0.25125628140703515, 0.25125628140703515, 0.25125628140703515, 0.25125628140703515, 0.25125628140703515, 0.25125628140703515, 0.25125628140703515, 0.25125628140703515, 0.25125628140703515, 0.25125628140703515, 0.25125628140703515, 0.25125628140703515, 0.25125628140703515, 0.25125628140703515, 0.25125628140703515, 0.25125628140703515, 0.25125628140703515, 0.25125628140703515, 0.25125628140703515, 0.25125628140703515, 0.25125628140703515, 0.25125628140703515, 0.25125628140703515, 0.25125628140703515, 0.25125628140703515, 0.25125628140703515, 0.25125628140703515, 0.25125628140703515, 0.25125628140703515, 0.25125628140703515, 0.25125628140703515]\n",
            "87\n"
          ],
          "name": "stdout"
        }
      ]
    },
    {
      "cell_type": "markdown",
      "metadata": {
        "id": "eJdVk9Cqr_YM"
      },
      "source": [
        "a) **Test of means**\n",
        "\n",
        "This test determine whether the mean of a set of numbers is equal to $\\frac{1}{2}$\n",
        "\n",
        "----\n",
        "\n",
        "**Algorithm 1** *Test of means*\n",
        "\n",
        "--- \n",
        "**Require:** A set of random numbers *r* and a confidence level *cl*\n",
        "\n",
        "1: **function:** $MeansTest(r,cl)$\n",
        "\n",
        "2: $α ← 1 − cl$\n",
        "\n",
        "3: $n ← size(r)$\n",
        "\n",
        "4: $\\bar{r}\\leftarrow \\frac{1}{n}\\sum _{n}^{i=1}r_{i}$\n",
        "\n",
        "5: $LL_{\\bar{r}}\\leftarrow \\frac{1}{2}-z_{_{\\frac{\\alpha }{2}}}(\\frac{1}{\\sqrt{12n}})$\n",
        "\n",
        "6: $UL_{\\bar{r}}\\leftarrow \\frac{1}{2}-z_{_{\\frac{\\alpha }{2}}}  (\\frac{1}{\\sqrt{12n}})$\n",
        "\n",
        "7: **return** $LL_\\bar{r}\\leq \\bar{r}\\leq UL_{\\bar{r}}$\n",
        "\n",
        "---"
      ]
    },
    {
      "cell_type": "code",
      "metadata": {
        "colab": {
          "base_uri": "https://localhost:8080/"
        },
        "id": "v4fzlsfisrRl",
        "outputId": "5d2327fc-0aa0-43ac-84b1-815f8f17d05a"
      },
      "source": [
        "#Z = alfa/2-> 1-0.0025 = 0.975 \n",
        "#In the table distribution find Z_alfa -> 0.975 -> 1.90+0.06 -> 1.96\n",
        "\n",
        "#1.\n",
        "def MeanTest(r, cl):\n",
        "  #2.\n",
        "  alfa = 1- cl\n",
        "  #3.\n",
        "  n = len(r)\n",
        "  #4\n",
        "  sigma = sum(r)\n",
        "  rBarra = ((1/n)*(sigma))\n",
        "\n",
        "  #5 y 6\n",
        "  Alfa = 1-((alfa)/2)\n",
        "  RbarraLimiteInferior = ((1/2) - (norm.ppf(Alfa))*(1/(math.sqrt(12*n))))\n",
        "  RbarraLimiteSuperior = ((1/2) + (norm.ppf(Alfa))*(1/(math.sqrt(12*n))))\n",
        "\n",
        "  #7\n",
        "  if RbarraLimiteInferior <= rBarra and RbarraLimiteSuperior >= rBarra:\n",
        "    print(True, \":The test failed to reject\")\n",
        "  else:\n",
        "    print(False, \":The test failed\")\n",
        "\n",
        "  print(\"\\n\")\n",
        "  print(\"alfa: \", alfa)\n",
        "  print(\"Confidence level: \", cl)\n",
        "  print(\"n: \", n)\n",
        "  print(\"rBarra: \", rBarra)\n",
        "  print(\"Rbarra Limite Inferior: \", RbarraLimiteInferior)\n",
        "  print(\"Rbarra Limite Superior: \", RbarraLimiteSuperior)\n",
        "MeanTest(r,cl)"
      ],
      "execution_count": null,
      "outputs": [
        {
          "output_type": "stream",
          "text": [
            "True :The test failed to reject\n",
            "\n",
            "\n",
            "alfa:  0.050000000000000044\n",
            "Confidence level:  0.95\n",
            "n:  87\n",
            "rBarra:  0.5039184952978055\n",
            "Rbarra Limite Inferior:  0.43934063751266544\n",
            "Rbarra Limite Superior:  0.5606593624873346\n"
          ],
          "name": "stdout"
        }
      ]
    },
    {
      "cell_type": "markdown",
      "metadata": {
        "id": "5qEXuJjDBtaQ"
      },
      "source": [
        "b) **Test of variance**\n",
        "\n",
        "This test determine whether the mean of a set of numbers is equal to $\\frac{1}{2}$\n",
        "\n",
        "----\n",
        "\n",
        "**Algorithm 2** *Test of variance*\n",
        "\n",
        "--- \n",
        "**Require:** A set of random numbers *r* and a confidence level *cl*\n",
        "\n",
        "1: **function:** $VarianceTest(r,cl)$\n",
        "\n",
        "2: $α ← 1 − cl$\n",
        "\n",
        "3: $n ← size(r)$\n",
        "\n",
        "4: $V(r)\\leftarrow \\frac{\\sum _{n-1}^{i=1}(r_{i}-\\bar{r})^2}{n}$\n",
        "\n",
        "5: $LL_{V(r)}\\leftarrow\\frac{\\chi_{\\alpha/2, n-1}^{2}}{12(n-1)}$\n",
        "\n",
        "6: $UL_{V(r)}\\leftarrow\\frac{\\chi_{(1-\\alpha)/2, n-1}^{2}}{12(n-1)}$\n",
        "\n",
        "7: **return** $LL_{V(r)} \\leq V(r) \\leq UL_{V(r)}$\n",
        "\n",
        "---\n"
      ]
    },
    {
      "cell_type": "code",
      "metadata": {
        "colab": {
          "base_uri": "https://localhost:8080/"
        },
        "id": "beo_QQ-s4Ebj",
        "outputId": "ecd97c86-f050-4640-95a9-e156c72cd4a5"
      },
      "source": [
        "#1.\n",
        "def VarianceTest(r, cl):\n",
        "  #2.\n",
        "  alfa = 1 - cl\n",
        "  #3.\n",
        "  n = len(r)\n",
        "  \n",
        "  #4.\n",
        "  sigma = sum(r)\n",
        "  rBarra = ((1/n)*(sigma))\n",
        "\n",
        "  #List comprehension\n",
        "  r[:] = [(ri - rBarra)**2 for ri in r] # Cuidado aqui, estas sobre escribiendo r, utiliza otro nombre de variable mejor\n",
        "\n",
        "  Vr = sum(r)/(n-1)\n",
        "\n",
        "  chiCuadradaLL = chi2.ppf((alfa/2),(n-1))\n",
        "  chiCuadradaUL = chi2.ppf(1-(alfa/2), (n-1))\n",
        "\n",
        "  #5 y 6\n",
        "  LL = chiCuadradaLL/((12)*(n-1))\n",
        "  UL = chiCuadradaUL/((12) * (n-1))\n",
        "  \n",
        "  #7\n",
        "  if LL <= Vr and  UL >= Vr:\n",
        "   print(True, \":The test failed to reject\")\n",
        "  else:\n",
        "    print(False, \":The test failed\")\n",
        "\n",
        "\n",
        "  print(\"\\n\")\n",
        "  print(\"alfa: \", alfa)\n",
        "  print(\"Confidence level: \", cl)\n",
        "  print(\"n: \", n)\n",
        "  print(\"rBarra: \", rBarra)\n",
        "  print(\"Vr: \", Vr)\n",
        "  print(\"LL(Vr) :\", LL)\n",
        "  print(\"UL(Vr) :\", UL)  \n",
        "VarianceTest(r, cl)\n"
      ],
      "execution_count": null,
      "outputs": [
        {
          "output_type": "stream",
          "text": [
            "True :The test failed to reject\n",
            "\n",
            "\n",
            "alfa:  0.050000000000000044\n",
            "Confidence level:  0.95\n",
            "n:  87\n",
            "rBarra:  0.5039184952978055\n",
            "Vr:  0.08430781396011584\n",
            "LL(Vr) : 0.060308746534820136\n",
            "UL(Vr) : 0.11002286584978808\n"
          ],
          "name": "stdout"
        }
      ]
    },
    {
      "cell_type": "markdown",
      "metadata": {
        "id": "Ua5iV-RiKfCI"
      },
      "source": [
        "c) **Chi-Squere Test**\n",
        "\n",
        "This test determine whether the mean of a set of numbers is equal to $\\frac{1}{2}$\n",
        "\n",
        "----\n",
        "\n",
        "**Algorithm 3** *Chi-Squere Test*\n",
        "\n",
        "--- \n",
        "**Require:** A set of random numbers *r* and a confidence level *cl*\n",
        "\n",
        "1: **function:** $ChiSquereTest(r,cl)$\n",
        "\n",
        "2: $α ← 1 − cl$\n",
        "\n",
        "3: $ n← size(r)$\n",
        "\n",
        "4: $m \\leftarrow \\sqrt{n}$\n",
        "\n",
        "5: $Create \\:\\:m \\:\\:clases \\:\\:for \\:\\:r$\n",
        "\n",
        "6: $Classify\\:\\: each \\:\\:r_i \\:\\:in \\:\\: each \\:\\:class$\n",
        "\n",
        "7: $Calculate \\: \\:O_i \\:\\:for \\:\\:each \\:\\:class$\n",
        "\n",
        "8: $Calculate \\:\\: E_i = \\frac{n}{m}$\n",
        "\n",
        "9: $\\chi_{0}^{2} \\leftarrow \\sum _{m}^{i=1} \\frac{(E_i - O_i)^2}{E_i}$\n",
        "\n",
        "10: **return** $\\chi_{0}^{2} < \\chi_{\\alpha, m-1}^{2}$\n",
        "\n",
        "---\n"
      ]
    },
    {
      "cell_type": "code",
      "metadata": {
        "colab": {
          "base_uri": "https://localhost:8080/"
        },
        "id": "vq5eMhOvKm69",
        "outputId": "4eef07a6-e43f-4850-a4e6-95e16aaa5e01"
      },
      "source": [
        "from google.colab import drive\n",
        "#drive.mount('/content/drive/')\n",
        "#ruta = '/content/drive/MyDrive/Classroom/Simulación/classChiSquere.txt'\n",
        "\n",
        "#clase = np.loadtxt('/content/classChiSquere.txt',skiprows=1,unpack='true')\n",
        "#print(clase)\n",
        "\n",
        "#1.\n",
        "def ChisquereTest(r, cl):\n",
        "  #2.\n",
        "  alfa = 1 - cl\n",
        "  #3.\n",
        "  n = len(r)\n",
        "  #4.\n",
        "  m = math.sqrt(n)\n",
        "  \n",
        "  #5\n",
        "  clase1 = [0.00, 0.10, 0.20, 0.30, 0.40, 0.50, 0.60, 0.70, 0.80, 0.90] # Las clases deben ser generadas dinamicamente\n",
        "  clase2 = [0.10, 0.20, 0.30, 0.40, 0.50, 0.60, 0.70, 0.80, 0.90, 0.100]\n",
        "\n",
        "\n",
        "  Oi = []\n",
        "  auxOi =[]\n",
        "  OiLen = 0 \n",
        "  Ei = []\n",
        "  auxResult = []\n",
        "  #6.\n",
        "  for j in range(len(clase1)):\n",
        "    #7. Oi\n",
        "    auxO=0\n",
        "    auxOi=[]\n",
        "    Oi.append(OiLen) # OiLen tendra el valor del proceso anterior, la primera vez tendra 0\n",
        "    \n",
        "    #8. Ei\n",
        "    auxEi = n/m\n",
        "    Ei.append(auxEi)\n",
        "    \n",
        "    #9. ((Ei-Oi)^2)/Ei\n",
        "    result = (Ei[j] - Oi[j])**2\n",
        "    auxResult.append(result)\n",
        "    \n",
        "    for i in range(len(r)): # Esto deberia usarse para llenar Oi, me parece complicado de entender asi como esta.\n",
        "\n",
        "        OiLen = len(auxOi)\n",
        "\n",
        "        if r[i] >= clase1[j] and r[i] <= clase2[j]:     \n",
        "          auxO +=1\n",
        "          auxOi.append([auxO])\n",
        "  #9. \n",
        "  Chi2 = chi2.ppf(alfa, m-1)\n",
        "  Chi0 = sum(auxResult)\n",
        "\n",
        "  #10.\n",
        "  if Chi0 < Chi2:\n",
        "   print(True, \":The test failed to reject\")\n",
        "  else:\n",
        "    print(False, \":The test failed\")\n",
        "  \n",
        "  print(\"\\n\")\n",
        "  print(\"alfa: \", alfa)\n",
        "  print(\"Confidence level: \", cl)\n",
        "  print(\"n: \", n)\n",
        "  print(\"Oi: \", Oi)\n",
        "  print(\"Ei:\", Ei)\n",
        "  print(\"Chi0\", Chi0)\n",
        "  print(\"Chi2\", Chi2)\n",
        "  \n",
        "ChisquereTest(r,cl)"
      ],
      "execution_count": null,
      "outputs": [
        {
          "output_type": "stream",
          "text": [
            "False :The test failed\n",
            "\n",
            "\n",
            "alfa:  0.050000000000000044\n",
            "Confidence level:  0.95\n",
            "n:  87\n",
            "Oi:  [0, 52, 26, 8, 0, 0, 0, 0, 0, 0]\n",
            "Ei: [9.327379053088814, 9.327379053088814, 9.327379053088814, 9.327379053088814, 9.327379053088814, 9.327379053088814, 9.327379053088814, 9.327379053088814, 9.327379053088814, 9.327379053088814]\n",
            "Chi0 2709.6908028687244\n",
            "Chi2 2.923852851926906\n"
          ],
          "name": "stdout"
        }
      ]
    }
  ]
}